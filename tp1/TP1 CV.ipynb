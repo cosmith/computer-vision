{
 "metadata": {
  "name": "",
  "signature": "sha256:c6fb5376c4e5103ca724dfa3d209a1863682b063e8a4aa5325a6f13b507df13c"
 },
 "nbformat": 3,
 "nbformat_minor": 0,
 "worksheets": [
  {
   "cells": [
    {
     "cell_type": "markdown",
     "metadata": {},
     "source": [
      "# Vision par ordinateur - TP1 \n",
      "\n",
      "## 3. D\u00e9tection de peau\n",
      "\n",
      "### 3.2. Construction d'une base d'exemples peau - non-peau\n",
      "\n",
      "On cr\u00e9e une base d'images, dont voici un extrait."
     ]
    },
    {
     "cell_type": "code",
     "collapsed": false,
     "input": [],
     "language": "python",
     "metadata": {},
     "outputs": []
    }
   ],
   "metadata": {}
  }
 ]
}